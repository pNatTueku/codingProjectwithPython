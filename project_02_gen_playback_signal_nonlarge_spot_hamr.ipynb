{
 "cells": [
  {
   "attachments": {},
   "cell_type": "markdown",
   "metadata": {},
   "source": [
    "Generate playback signal of Non-large spot HAMR\n",
    "- Magnetic system parameters\n",
    "    - s     : Coersive squareness\n",
    "    - Tpeak : Peak temperature in the medium above teperature in Kemvin (K)\n",
    "    - sigma_t : Sigma of temperature (T) profile in nanometers (nm)\n",
    "    - H0    : Deep gap field in Oe/(4*pi*e-7) (A/m)\n",
    "    - Hc0   : The coersivity (A/m)\n",
    "    - Me0   : Remanent magnetization\n",
    "    - c     : Laser position at the center of peak temperature along downtrack in nm, so c = 0\n",
    "    - z     : Cross track location\n",
    "    - Hc    : Dependence of coercivity on temperature in A/m --> Hc = Hc0*T + HcConstant\n",
    "    Assumes magnetization transition of coersive squareness on temperature\n",
    "    - s     : Dependence of coersive squareness on temperature\n",
    "    - Hg    : Deep gap field in A/m\n",
    "\n",
    "- Physical system parameters\n",
    "    - g     : Gap width bwtween pole head and its image (g = 1*d + 2*t)\n",
    "    - d     : Head medium distance or fly height in nm\n",
    "    = t     : Medium tickness in nm\n",
    "    - y     : Center of medium or distance fromm bottom of ploe to the center of the medium ==> PMR y = t/2 (nm), Field is evaluated at the center of medium\n",
    "    - trackWidth: Width of track\n",
    "\n",
    "- Reader paramaters\n",
    "    - C     : A system specific constant which describes the phisical attributes of GMR reader\n",
    "    - gr    : Read head gap pr spacing between the shield and GMR element in nm\n",
    "    - N     : Number of substract\n",
    "    - delta_z : Width of each microtracks\n",
    "    - ai    : Transition parameter pf the ith microtrack\n",
    "    - x0i   : Transition center of the ith microtrack\n",
    "    - px    : Total transition response\n",
    "    - hx    : Bit response\n"
   ]
  },
  {
   "cell_type": "code",
   "execution_count": 1,
   "metadata": {},
   "outputs": [],
   "source": [
    "#                                            jitter        n(t) AWGN\n",
    "#                                               |             |          \n",
    "#        ak(-1, 1) |---------| bk(-1, 0, 1) |------|    rt    |    yt    |-----|    sk    |------|    zk    |-----------|\n",
    "#ak_hat\n",
    "#----------------> | (1-D)/2 | -------------| g(t) | ------->(+)---------|  \\  | -------> |  FD  | -------> | Detection | ------>\n",
    "#                  |---------|              |------|          |          |-----|          |------|          |-----------|"
   ]
  },
  {
   "cell_type": "code",
   "execution_count": null,
   "metadata": {},
   "outputs": [],
   "source": []
  }
 ],
 "metadata": {
  "kernelspec": {
   "display_name": "conda_env",
   "language": "python",
   "name": "python3"
  },
  "language_info": {
   "codemirror_mode": {
    "name": "ipython",
    "version": 3
   },
   "file_extension": ".py",
   "mimetype": "text/x-python",
   "name": "python",
   "nbconvert_exporter": "python",
   "pygments_lexer": "ipython3",
   "version": "3.9.15"
  },
  "orig_nbformat": 4
 },
 "nbformat": 4,
 "nbformat_minor": 2
}
